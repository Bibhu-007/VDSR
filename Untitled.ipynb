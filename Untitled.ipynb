{
 "cells": [
  {
   "cell_type": "code",
   "execution_count": 4,
   "id": "1178ef98-15b2-4915-a0bd-bfdabcb41683",
   "metadata": {},
   "outputs": [
    {
     "name": "stderr",
     "output_type": "stream",
     "text": [
      "100%|██████████████████████████████████████████████████████████████████████████████████| 33/33 [00:06<00:00,  5.28it/s]\n"
     ]
    }
   ],
   "source": [
    "import os\n",
    "import cv2\n",
    "import numpy as np\n",
    "from imgproc import imresize  # Make sure imgproc.py is in the same folder or accessible via import\n",
    "from tqdm import tqdm\n",
    "\n",
    "# Paths\n",
    "hr_dir = \"C:/Users/hp/Desktop/Image super-resolution/VDSR-PyTorch/data/Training and Validation/VDSR/Scale 4/valid/hr\"\n",
    "lr_dir = \"C:/Users/hp/Desktop/Image super-resolution/VDSR-PyTorch/data/Training and Validation/VDSR/Scale 4/valid/lr\"\n",
    "source_dir = \"C:/Users/hp/Desktop/Image super-resolution/VDSR-PyTorch/data/Training and Validation/VDSR/Scale 4/Dataset/valid\"  # Path to the folder with 363 HR images\n",
    "\n",
    "# Parameters\n",
    "upscale_factor = 4  # You can set it to 3 or 4 depending on your use case\n",
    "\n",
    "# Create directories if not exist\n",
    "os.makedirs(hr_dir, exist_ok=True)\n",
    "os.makedirs(lr_dir, exist_ok=True)\n",
    "\n",
    "# Loop through all images\n",
    "for filename in tqdm(os.listdir(source_dir)):\n",
    "    hr_path = os.path.join(source_dir, filename)\n",
    "    hr_image = cv2.imread(hr_path).astype(np.float32) / 255.\n",
    "\n",
    "    # Create LR image\n",
    "    lr_image = imresize(hr_image, 1 / upscale_factor)\n",
    "    lr_image = imresize(lr_image, upscale_factor)\n",
    "\n",
    "    # Save HR and LR images\n",
    "    cv2.imwrite(os.path.join(hr_dir, filename), (hr_image * 255.0).astype(np.uint8))\n",
    "    cv2.imwrite(os.path.join(lr_dir, filename), (lr_image * 255.0).astype(np.uint8))\n"
   ]
  },
  {
   "cell_type": "code",
   "execution_count": null,
   "id": "e73922d2-3b05-4f7a-bb8e-83f69c225863",
   "metadata": {},
   "outputs": [],
   "source": []
  }
 ],
 "metadata": {
  "kernelspec": {
   "display_name": "Python 3 (ipykernel)",
   "language": "python",
   "name": "python3"
  },
  "language_info": {
   "codemirror_mode": {
    "name": "ipython",
    "version": 3
   },
   "file_extension": ".py",
   "mimetype": "text/x-python",
   "name": "python",
   "nbconvert_exporter": "python",
   "pygments_lexer": "ipython3",
   "version": "3.12.7"
  }
 },
 "nbformat": 4,
 "nbformat_minor": 5
}
